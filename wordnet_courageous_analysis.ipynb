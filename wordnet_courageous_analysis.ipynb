{
  "nbformat": 4,
  "nbformat_minor": 0,
  "metadata": {
    "colab": {
      "provenance": [],
      "authorship_tag": "ABX9TyNiWEY4QhzaJCPlls2QoCY0",
      "include_colab_link": true
    },
    "kernelspec": {
      "name": "python3",
      "display_name": "Python 3"
    },
    "language_info": {
      "name": "python"
    }
  },
  "cells": [
    {
      "cell_type": "markdown",
      "metadata": {
        "id": "view-in-github",
        "colab_type": "text"
      },
      "source": [
        "<a href=\"https://colab.research.google.com/github/amirrezast/NLP_First_Encounter/blob/main/wordnet_courageous_analysis.ipynb\" target=\"_parent\"><img src=\"https://colab.research.google.com/assets/colab-badge.svg\" alt=\"Open In Colab\"/></a>"
      ]
    },
    {
      "cell_type": "code",
      "execution_count": 2,
      "metadata": {
        "colab": {
          "base_uri": "https://localhost:8080/"
        },
        "id": "ar0ZuqhZxKac",
        "outputId": "9f3ad007-7817-47d6-d2e6-3bf0848831c3"
      },
      "outputs": [
        {
          "output_type": "stream",
          "name": "stderr",
          "text": [
            "[nltk_data] Downloading package wordnet to /root/nltk_data...\n"
          ]
        }
      ],
      "source": [
        "import nltk\n",
        "nltk.download('wordnet')\n",
        "from nltk.corpus import wordnet\n"
      ]
    },
    {
      "cell_type": "code",
      "source": [
        "# Get synsets for the word \"courageous\"\n",
        "syn = wordnet.synsets(\"courageous\")\n",
        "\n",
        "print(\"Happy wordnet:\\n\")\n",
        "\n",
        "# Print the name of the first synset\n",
        "print(syn[0].name())\n",
        "\n",
        "# Print the names of the lemmas in the first synset\n",
        "print([lemma.name() for lemma in syn[0].lemmas()])\n",
        "\n",
        "# Print the definition of the first synset\n",
        "print(syn[0].definition())\n",
        "\n",
        "# Print the examples of the first synset and add a separator line\n",
        "print(syn[0].examples(), \"\\n################\")"
      ],
      "metadata": {
        "colab": {
          "base_uri": "https://localhost:8080/"
        },
        "id": "G3UbjFu1yKo0",
        "outputId": "f923dca6-a600-4143-aa7a-87ee85eeac24"
      },
      "execution_count": 15,
      "outputs": [
        {
          "output_type": "stream",
          "name": "stdout",
          "text": [
            "Happy wordnet:\n",
            "\n",
            "brave.a.01\n",
            "['brave', 'courageous']\n",
            "possessing or displaying courage; able to face and deal with danger or fear without flinching; - Herman Melville; - William Wordsworth\n",
            "['Familiarity with danger makes a brave man braver but less daring', 'a frank courageous heart...triumphed over pain', 'set a courageous example by leading them safely into and out of enemy-held territory'] \n",
            "################\n"
          ]
        }
      ]
    },
    {
      "cell_type": "code",
      "source": [
        "# Initialize lists to store synonyms and antonyms\n",
        "synonyms = []\n",
        "antonyms = []\n",
        "\n",
        "# Loop through all synsets for the word \"courageous\"\n",
        "for s in wordnet.synsets(\"courageous\"):\n",
        "    # Loop through all lemmas in each synset\n",
        "    for l in s.lemmas():\n",
        "        # Append lemma names to the synonyms list\n",
        "        synonyms.append(l.name())\n",
        "        # Check if the lemma has antonyms\n",
        "        if l.antonyms():\n",
        "            # Append the first antonym to the antonyms list\n",
        "            antonyms.append(l.antonyms()[0].name())\n",
        "\n",
        "# Print the set of synonyms to remove duplicates\n",
        "print(\"Synonyms of 'courageous' = \", set(synonyms))\n",
        "\n",
        "# Print the set of antonyms to remove duplicates\n",
        "print(\"Antonyms of 'courageous' = \", set(antonyms))"
      ],
      "metadata": {
        "colab": {
          "base_uri": "https://localhost:8080/"
        },
        "id": "xg8F8WxpzH5T",
        "outputId": "a4ec8622-eddc-4c25-dcb1-268ee8eca1a1"
      },
      "execution_count": 16,
      "outputs": [
        {
          "output_type": "stream",
          "name": "stdout",
          "text": [
            "Synonyms of 'courageous' =  {'brave', 'courageous'}\n",
            "Antonyms of 'courageous' =  {'cowardly'}\n"
          ]
        }
      ]
    },
    {
      "cell_type": "code",
      "source": [],
      "metadata": {
        "id": "h_8Fn4MWzPgE"
      },
      "execution_count": null,
      "outputs": []
    }
  ]
}