{
  "nbformat": 4,
  "nbformat_minor": 0,
  "metadata": {
    "colab": {
      "provenance": [],
      "authorship_tag": "ABX9TyNkUXjQTIe5T20/R3DJpyLu",
      "include_colab_link": true
    },
    "kernelspec": {
      "name": "python3",
      "display_name": "Python 3"
    },
    "language_info": {
      "name": "python"
    }
  },
  "cells": [
    {
      "cell_type": "markdown",
      "metadata": {
        "id": "view-in-github",
        "colab_type": "text"
      },
      "source": [
        "<a href=\"https://colab.research.google.com/github/amirrezast/NLP_First_Encounter/blob/main/Preprocessing.ipynb\" target=\"_parent\"><img src=\"https://colab.research.google.com/assets/colab-badge.svg\" alt=\"Open In Colab\"/></a>"
      ]
    },
    {
      "cell_type": "code",
      "execution_count": 1,
      "metadata": {
        "colab": {
          "base_uri": "https://localhost:8080/"
        },
        "id": "ZQ2yiCOq9U59",
        "outputId": "ade010e7-8581-4d9e-c101-076b63ea8756"
      },
      "outputs": [
        {
          "output_type": "stream",
          "name": "stderr",
          "text": [
            "[nltk_data] Downloading package stopwords to /root/nltk_data...\n",
            "[nltk_data]   Unzipping corpora/stopwords.zip.\n",
            "[nltk_data] Downloading package wordnet to /root/nltk_data...\n",
            "[nltk_data] Downloading package punkt to /root/nltk_data...\n",
            "[nltk_data]   Unzipping tokenizers/punkt.zip.\n"
          ]
        },
        {
          "output_type": "execute_result",
          "data": {
            "text/plain": [
              "True"
            ]
          },
          "metadata": {},
          "execution_count": 1
        }
      ],
      "source": [
        "import nltk\n",
        "from nltk.stem import PorterStemmer\n",
        "from nltk.corpus import stopwords\n",
        "from nltk.stem import WordNetLemmatizer\n",
        "\n",
        "nltk.download(\"stopwords\")\n",
        "nltk.download(\"wordnet\")\n",
        "nltk.download(\"punkt\")"
      ]
    },
    {
      "cell_type": "code",
      "source": [
        "# Paragraph about Egypt lore\n",
        "paragraph = \"\"\"Ancient Egypt, known for its rich mythology, has a pantheon of gods and goddesses such as Ra, the sun god,\n",
        "and Isis, the goddess of magic and motherhood. The lore includes the story of Osiris, the god of the afterlife, who was\n",
        "killed and dismembered by his brother Seth. Osiris's wife, Isis, reassembled his body and resurrected him, allowing him\n",
        "to become the ruler of the underworld. The pharaohs, believed to be the earthly embodiments of gods, built grand pyramids\n",
        "and temples to honor their deities. The ancient texts, like the Book of the Dead, provided instructions for navigating\n",
        "the afterlife. Hieroglyphs, the writing system of ancient Egyptians, depicted these myths and were considered sacred.\n",
        "The lore of Egypt continues to fascinate and influence modern culture, inspiring countless stories, films, and scholarly\n",
        "research.\"\"\""
      ],
      "metadata": {
        "id": "F1Ox14yo9a3G"
      },
      "execution_count": 2,
      "outputs": []
    },
    {
      "cell_type": "code",
      "source": [
        "# Lowercase words\n",
        "paragraph_lower = paragraph.lower()"
      ],
      "metadata": {
        "id": "IFdP2Ut99cko"
      },
      "execution_count": 3,
      "outputs": []
    },
    {
      "cell_type": "code",
      "source": [
        "# Sentence tokenization\n",
        "sentences = nltk.sent_tokenize(paragraph_lower)"
      ],
      "metadata": {
        "id": "OXUmACIR9e6t"
      },
      "execution_count": 4,
      "outputs": []
    },
    {
      "cell_type": "code",
      "source": [
        "# Initialize the lemmatizer and poststemmer\n",
        "lemmatizer = WordNetLemmatizer()\n",
        "ps = PorterStemmer()"
      ],
      "metadata": {
        "id": "bngtoLk2tSQb"
      },
      "execution_count": 5,
      "outputs": []
    },
    {
      "cell_type": "code",
      "source": [
        "# Lemmatization and stemming\n",
        "\n",
        "lematized_word_sentences = []\n",
        "stemmed_word_sentences = []\n",
        "\n",
        "for i in range(len(sentences)):\n",
        "    words = nltk.word_tokenize(sentences[i])\n",
        "\n",
        "    words_lemmatized = [lemmatizer.lemmatize(word) for word in words \\\n",
        "                        if word not in set(stopwords.words('english'))]\n",
        "    lematized_word_sentences.append(' '.join(words_lemmatized))\n",
        "\n",
        "    words_stemmed = [ps.stem(word) for word in words \\\n",
        "                        if word not in set(stopwords.words('english'))]\n",
        "    stemmed_word_sentences.append(' '.join(words_stemmed))\n"
      ],
      "metadata": {
        "id": "FQ9nq3QQ9kPk"
      },
      "execution_count": 6,
      "outputs": []
    },
    {
      "cell_type": "code",
      "source": [
        "lematized_word_sentences[0:5]"
      ],
      "metadata": {
        "colab": {
          "base_uri": "https://localhost:8080/"
        },
        "id": "GK4GencP9oKe",
        "outputId": "808f017e-b819-437c-c2bd-6a06707d1b43"
      },
      "execution_count": 7,
      "outputs": [
        {
          "output_type": "execute_result",
          "data": {
            "text/plain": [
              "['ancient egypt , known rich mythology , pantheon god goddess ra , sun god , isi , goddess magic motherhood .',\n",
              " 'lore includes story osiris , god afterlife , killed dismembered brother seth .',\n",
              " \"osiris 's wife , isi , reassembled body resurrected , allowing become ruler underworld .\",\n",
              " 'pharaoh , believed earthly embodiment god , built grand pyramid temple honor deity .',\n",
              " 'ancient text , like book dead , provided instruction navigating afterlife .']"
            ]
          },
          "metadata": {},
          "execution_count": 7
        }
      ]
    },
    {
      "cell_type": "code",
      "source": [
        "stemmed_word_sentences[0:5]"
      ],
      "metadata": {
        "colab": {
          "base_uri": "https://localhost:8080/"
        },
        "id": "8VmjzvSt9myd",
        "outputId": "de8a075a-9930-44df-e0d6-8eed01b8c9eb"
      },
      "execution_count": 8,
      "outputs": [
        {
          "output_type": "execute_result",
          "data": {
            "text/plain": [
              "['ancient egypt , known rich mytholog , pantheon god goddess ra , sun god , isi , goddess magic motherhood .',\n",
              " 'lore includ stori osiri , god afterlif , kill dismemb brother seth .',\n",
              " \"osiri 's wife , isi , reassembl bodi resurrect , allow becom ruler underworld .\",\n",
              " 'pharaoh , believ earthli embodi god , built grand pyramid templ honor deiti .',\n",
              " 'ancient text , like book dead , provid instruct navig afterlif .']"
            ]
          },
          "metadata": {},
          "execution_count": 8
        }
      ]
    },
    {
      "cell_type": "code",
      "source": [
        "# Creating the Bag of Words model using stemmed sentences\n",
        "from sklearn.feature_extraction.text import CountVectorizer\n",
        "cv = CountVectorizer(max_features=1500)\n",
        "x_bow = cv.fit_transform(stemmed_word_sentences).toarray()\n",
        "\n",
        "# # Print the Bag of Words array\n",
        "# print(\"\\nBag of Words model array:\")\n",
        "# print(x_bow)"
      ],
      "metadata": {
        "id": "nX3ZsCJQ9qYd"
      },
      "execution_count": 9,
      "outputs": []
    },
    {
      "cell_type": "code",
      "source": [
        "# Creating the TF-IDF model using lemmatized sentences\n",
        "from sklearn.feature_extraction.text import TfidfVectorizer\n",
        "tf = TfidfVectorizer()\n",
        "x_tfidf = tf.fit_transform(lematized_word_sentences).toarray()\n",
        "\n",
        "# Print the TF-IDF array\n",
        "# print(\"\\nTF-IDF model array:\")\n",
        "# print(x_tfidf)"
      ],
      "metadata": {
        "id": "OUDdjXha9sK_"
      },
      "execution_count": 10,
      "outputs": []
    },
    {
      "cell_type": "code",
      "source": [],
      "metadata": {
        "id": "ajoQtnFgDG6v"
      },
      "execution_count": null,
      "outputs": []
    }
  ]
}